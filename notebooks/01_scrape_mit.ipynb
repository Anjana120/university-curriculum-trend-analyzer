{
 "cells": [
  {
   "cell_type": "code",
   "execution_count": 2,
   "id": "14c3ac23-2eb2-44de-99d6-6d2ef6dcbf1c",
   "metadata": {},
   "outputs": [
    {
     "name": "stdout",
     "output_type": "stream",
     "text": [
      "Requirement already satisfied: requests in /opt/anaconda3/lib/python3.12/site-packages (2.32.3)\n",
      "Requirement already satisfied: beautifulsoup4 in /opt/anaconda3/lib/python3.12/site-packages (4.12.3)\n",
      "Requirement already satisfied: pandas in /opt/anaconda3/lib/python3.12/site-packages (2.2.2)\n",
      "Requirement already satisfied: charset-normalizer<4,>=2 in /opt/anaconda3/lib/python3.12/site-packages (from requests) (3.3.2)\n",
      "Requirement already satisfied: idna<4,>=2.5 in /opt/anaconda3/lib/python3.12/site-packages (from requests) (3.7)\n",
      "Requirement already satisfied: urllib3<3,>=1.21.1 in /opt/anaconda3/lib/python3.12/site-packages (from requests) (2.2.3)\n",
      "Requirement already satisfied: certifi>=2017.4.17 in /opt/anaconda3/lib/python3.12/site-packages (from requests) (2025.1.31)\n",
      "Requirement already satisfied: soupsieve>1.2 in /opt/anaconda3/lib/python3.12/site-packages (from beautifulsoup4) (2.5)\n",
      "Requirement already satisfied: numpy>=1.26.0 in /opt/anaconda3/lib/python3.12/site-packages (from pandas) (1.26.4)\n",
      "Requirement already satisfied: python-dateutil>=2.8.2 in /opt/anaconda3/lib/python3.12/site-packages (from pandas) (2.9.0.post0)\n",
      "Requirement already satisfied: pytz>=2020.1 in /opt/anaconda3/lib/python3.12/site-packages (from pandas) (2024.1)\n",
      "Requirement already satisfied: tzdata>=2022.7 in /opt/anaconda3/lib/python3.12/site-packages (from pandas) (2023.3)\n",
      "Requirement already satisfied: six>=1.5 in /opt/anaconda3/lib/python3.12/site-packages (from python-dateutil>=2.8.2->pandas) (1.16.0)\n"
     ]
    }
   ],
   "source": [
    "!pip install requests beautifulsoup4 pandas\n"
   ]
  },
  {
   "cell_type": "code",
   "execution_count": 6,
   "id": "c46806af-cad5-4c11-8745-b6bf7e107c5c",
   "metadata": {},
   "outputs": [
    {
     "data": {
      "text/html": [
       "<div>\n",
       "<style scoped>\n",
       "    .dataframe tbody tr th:only-of-type {\n",
       "        vertical-align: middle;\n",
       "    }\n",
       "\n",
       "    .dataframe tbody tr th {\n",
       "        vertical-align: top;\n",
       "    }\n",
       "\n",
       "    .dataframe thead th {\n",
       "        text-align: right;\n",
       "    }\n",
       "</style>\n",
       "<table border=\"1\" class=\"dataframe\">\n",
       "  <thead>\n",
       "    <tr style=\"text-align: right;\">\n",
       "      <th></th>\n",
       "      <th>title</th>\n",
       "      <th>description</th>\n",
       "      <th>department</th>\n",
       "      <th>year</th>\n",
       "    </tr>\n",
       "  </thead>\n",
       "  <tbody>\n",
       "    <tr>\n",
       "      <th>0</th>\n",
       "      <td>6.100A Introduction to Computer Science Progra...</td>\n",
       "      <td>6.100A Introduction to Computer Science Progra...</td>\n",
       "      <td>MIT - EECS</td>\n",
       "      <td>2024</td>\n",
       "    </tr>\n",
       "    <tr>\n",
       "      <th>1</th>\n",
       "      <td>6.100B Introduction to Computational Thinking ...</td>\n",
       "      <td>6.100B Introduction to Computational Thinking ...</td>\n",
       "      <td>MIT - EECS</td>\n",
       "      <td>2024</td>\n",
       "    </tr>\n",
       "    <tr>\n",
       "      <th>2</th>\n",
       "      <td>6.100L Introduction to Computer Science and Pr...</td>\n",
       "      <td>6.100L Introduction to Computer Science and Pr...</td>\n",
       "      <td>MIT - EECS</td>\n",
       "      <td>2024</td>\n",
       "    </tr>\n",
       "    <tr>\n",
       "      <th>3</th>\n",
       "      <td>6.1010 Fundamentals of Programming</td>\n",
       "      <td>6.1010 Fundamentals of Programming(,)Prereq:6....</td>\n",
       "      <td>MIT - EECS</td>\n",
       "      <td>2024</td>\n",
       "    </tr>\n",
       "    <tr>\n",
       "      <th>4</th>\n",
       "      <td>6.1020 Software Construction</td>\n",
       "      <td>6.1020 Software Construction()Prereq:6.1010Uni...</td>\n",
       "      <td>MIT - EECS</td>\n",
       "      <td>2024</td>\n",
       "    </tr>\n",
       "  </tbody>\n",
       "</table>\n",
       "</div>"
      ],
      "text/plain": [
       "                                               title  \\\n",
       "0  6.100A Introduction to Computer Science Progra...   \n",
       "1  6.100B Introduction to Computational Thinking ...   \n",
       "2  6.100L Introduction to Computer Science and Pr...   \n",
       "3                 6.1010 Fundamentals of Programming   \n",
       "4                       6.1020 Software Construction   \n",
       "\n",
       "                                         description  department  year  \n",
       "0  6.100A Introduction to Computer Science Progra...  MIT - EECS  2024  \n",
       "1  6.100B Introduction to Computational Thinking ...  MIT - EECS  2024  \n",
       "2  6.100L Introduction to Computer Science and Pr...  MIT - EECS  2024  \n",
       "3  6.1010 Fundamentals of Programming(,)Prereq:6....  MIT - EECS  2024  \n",
       "4  6.1020 Software Construction()Prereq:6.1010Uni...  MIT - EECS  2024  "
      ]
     },
     "execution_count": 6,
     "metadata": {},
     "output_type": "execute_result"
    }
   ],
   "source": [
    "import requests\n",
    "from bs4 import BeautifulSoup\n",
    "import pandas as pd\n",
    "\n",
    "url = \"http://student.mit.edu/catalog/m6a.html\"\n",
    "r = requests.get(url)\n",
    "soup = BeautifulSoup(r.content, \"html.parser\")\n",
    "\n",
    "# This page structure: <h3> = title, <p> = description\n",
    "titles = soup.find_all(\"h3\")\n",
    "descs = soup.find_all(\"p\")\n",
    "\n",
    "courses = []\n",
    "\n",
    "for title, desc in zip(titles, descs):\n",
    "    title_text = title.get_text(strip=True)\n",
    "    desc_text = desc.get_text(strip=True)\n",
    "\n",
    "    courses.append({\n",
    "        \"title\": title_text,\n",
    "        \"description\": desc_text,\n",
    "        \"department\": \"MIT - EECS\",\n",
    "        \"year\": \"2024\"\n",
    "    })\n",
    "\n",
    "df = pd.DataFrame(courses)\n",
    "df.to_csv(\"../data/mit_courses.csv\", index=False)\n",
    "df.head()\n"
   ]
  }
 ],
 "metadata": {
  "kernelspec": {
   "display_name": "Python [conda env:base] *",
   "language": "python",
   "name": "conda-base-py"
  },
  "language_info": {
   "codemirror_mode": {
    "name": "ipython",
    "version": 3
   },
   "file_extension": ".py",
   "mimetype": "text/x-python",
   "name": "python",
   "nbconvert_exporter": "python",
   "pygments_lexer": "ipython3",
   "version": "3.12.7"
  }
 },
 "nbformat": 4,
 "nbformat_minor": 5
}
